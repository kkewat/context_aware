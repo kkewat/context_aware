{
  "nbformat": 4,
  "nbformat_minor": 0,
  "metadata": {
    "colab": {
      "provenance": [],
      "gpuType": "T4",
      "authorship_tag": "ABX9TyPiCbZIpPNvgeNi4XCqN8k5",
      "include_colab_link": true
    },
    "kernelspec": {
      "name": "python3",
      "display_name": "Python 3"
    },
    "language_info": {
      "name": "python"
    },
    "accelerator": "GPU"
  },
  "cells": [
    {
      "cell_type": "markdown",
      "metadata": {
        "id": "view-in-github",
        "colab_type": "text"
      },
      "source": [
        "<a href=\"https://colab.research.google.com/github/kkewat/context_aware/blob/main/content_aware.ipynb\" target=\"_parent\"><img src=\"https://colab.research.google.com/assets/colab-badge.svg\" alt=\"Open In Colab\"/></a>"
      ]
    },
    {
      "cell_type": "code",
      "execution_count": 1,
      "metadata": {
        "colab": {
          "base_uri": "https://localhost:8080/"
        },
        "id": "P1WQBc3CdrRW",
        "outputId": "d318f1bc-70f9-42b1-dd1f-cb10685f280c"
      },
      "outputs": [
        {
          "output_type": "stream",
          "name": "stdout",
          "text": [
            "Cloning into 'edge-connect'...\n",
            "remote: Enumerating objects: 452, done.\u001b[K\n",
            "remote: Counting objects: 100% (6/6), done.\u001b[K\n",
            "remote: Compressing objects: 100% (3/3), done.\u001b[K\n",
            "remote: Total 452 (delta 3), reused 3 (delta 3), pack-reused 446 (from 2)\u001b[K\n",
            "Receiving objects: 100% (452/452), 1.34 MiB | 25.02 MiB/s, done.\n",
            "Resolving deltas: 100% (270/270), done.\n"
          ]
        }
      ],
      "source": [
        "!git clone https://github.com/knazeri/edge-connect.git\n",
        "!cd edge-connect"
      ]
    },
    {
      "cell_type": "code",
      "source": [
        "!pwd"
      ],
      "metadata": {
        "colab": {
          "base_uri": "https://localhost:8080/"
        },
        "id": "CrVNWYwjeKX0",
        "outputId": "2263b374-3423-46dc-fd88-b87336c9a94d"
      },
      "execution_count": 2,
      "outputs": [
        {
          "output_type": "stream",
          "name": "stdout",
          "text": [
            "/content\n"
          ]
        }
      ]
    },
    {
      "cell_type": "code",
      "source": [
        "# prompt: move all files and folders from /content/edge-connect to /content\n",
        "\n",
        "!mv /content/edge-connect/* /content\n",
        "!rm -rf /content/edge-connect"
      ],
      "metadata": {
        "id": "hu7S9SZY-x-I"
      },
      "execution_count": 6,
      "outputs": []
    },
    {
      "cell_type": "code",
      "source": [
        "!pip install -r requirements.txt"
      ],
      "metadata": {
        "colab": {
          "base_uri": "https://localhost:8080/"
        },
        "id": "nMP5YW21d5LZ",
        "outputId": "681f1d23-750c-49da-893c-5d0d3de0cef7"
      },
      "execution_count": 7,
      "outputs": [
        {
          "output_type": "stream",
          "name": "stdout",
          "text": [
            "Collecting numpy~=1.19 (from -r requirements.txt (line 1))\n",
            "  Downloading numpy-1.26.4-cp311-cp311-manylinux_2_17_x86_64.manylinux2014_x86_64.whl.metadata (61 kB)\n",
            "\u001b[2K     \u001b[90m━━━━━━━━━━━━━━━━━━━━━━━━━━━━━━━━━━━━━━━━\u001b[0m \u001b[32m61.0/61.0 kB\u001b[0m \u001b[31m4.7 MB/s\u001b[0m eta \u001b[36m0:00:00\u001b[0m\n",
            "\u001b[?25hCollecting scipy~=1.0.1 (from -r requirements.txt (line 2))\n",
            "  Downloading scipy-1.0.1.tar.gz (15.5 MB)\n",
            "\u001b[2K     \u001b[90m━━━━━━━━━━━━━━━━━━━━━━━━━━━━━━━━━━━━━━━━\u001b[0m \u001b[32m15.5/15.5 MB\u001b[0m \u001b[31m12.9 MB/s\u001b[0m eta \u001b[36m0:00:00\u001b[0m\n",
            "\u001b[?25h  Preparing metadata (setup.py) ... \u001b[?25l\u001b[?25hdone\n",
            "Collecting future~=0.16.0 (from -r requirements.txt (line 3))\n",
            "  Downloading future-0.16.0.tar.gz (824 kB)\n",
            "\u001b[2K     \u001b[90m━━━━━━━━━━━━━━━━━━━━━━━━━━━━━━━━━━━━━━\u001b[0m \u001b[32m824.5/824.5 kB\u001b[0m \u001b[31m55.9 MB/s\u001b[0m eta \u001b[36m0:00:00\u001b[0m\n",
            "\u001b[?25h  Preparing metadata (setup.py) ... \u001b[?25l\u001b[?25hdone\n",
            "Collecting matplotlib~=2.2.2 (from -r requirements.txt (line 4))\n",
            "  Downloading matplotlib-2.2.5.tar.gz (36.7 MB)\n",
            "\u001b[2K     \u001b[90m━━━━━━━━━━━━━━━━━━━━━━━━━━━━━━━━━━━━━━━━\u001b[0m \u001b[32m36.7/36.7 MB\u001b[0m \u001b[31m53.5 MB/s\u001b[0m eta \u001b[36m0:00:00\u001b[0m\n",
            "\u001b[?25h  Preparing metadata (setup.py) ... \u001b[?25l\u001b[?25hdone\n",
            "Requirement already satisfied: pillow>=6.2.0 in /usr/local/lib/python3.11/dist-packages (from -r requirements.txt (line 5)) (11.2.1)\n",
            "Collecting opencv-python~=4.6.0 (from -r requirements.txt (line 6))\n",
            "  Downloading opencv_python-4.6.0.66-cp36-abi3-manylinux_2_17_x86_64.manylinux2014_x86_64.whl.metadata (18 kB)\n",
            "Collecting scikit-image~=0.14.0 (from -r requirements.txt (line 7))\n",
            "  Downloading scikit-image-0.14.5.tar.gz (28.3 MB)\n",
            "\u001b[2K     \u001b[90m━━━━━━━━━━━━━━━━━━━━━━━━━━━━━━━━━━━━━━━━\u001b[0m \u001b[32m28.3/28.3 MB\u001b[0m \u001b[31m7.4 MB/s\u001b[0m eta \u001b[36m0:00:00\u001b[0m\n",
            "\u001b[?25h  Preparing metadata (setup.py) ... \u001b[?25l\u001b[?25hdone\n",
            "Collecting pyaml (from -r requirements.txt (line 8))\n",
            "  Downloading pyaml-25.5.0-py3-none-any.whl.metadata (12 kB)\n",
            "Requirement already satisfied: cycler>=0.10 in /usr/local/lib/python3.11/dist-packages (from matplotlib~=2.2.2->-r requirements.txt (line 4)) (0.12.1)\n",
            "Requirement already satisfied: pyparsing!=2.0.4,!=2.1.2,!=2.1.6,>=2.0.1 in /usr/local/lib/python3.11/dist-packages (from matplotlib~=2.2.2->-r requirements.txt (line 4)) (3.2.3)\n",
            "Requirement already satisfied: python-dateutil>=2.1 in /usr/local/lib/python3.11/dist-packages (from matplotlib~=2.2.2->-r requirements.txt (line 4)) (2.9.0.post0)\n",
            "Requirement already satisfied: pytz in /usr/local/lib/python3.11/dist-packages (from matplotlib~=2.2.2->-r requirements.txt (line 4)) (2025.2)\n",
            "Requirement already satisfied: six>=1.10 in /usr/local/lib/python3.11/dist-packages (from matplotlib~=2.2.2->-r requirements.txt (line 4)) (1.17.0)\n",
            "Requirement already satisfied: kiwisolver>=1.0.1 in /usr/local/lib/python3.11/dist-packages (from matplotlib~=2.2.2->-r requirements.txt (line 4)) (1.4.8)\n",
            "Requirement already satisfied: networkx>=1.8 in /usr/local/lib/python3.11/dist-packages (from scikit-image~=0.14.0->-r requirements.txt (line 7)) (3.5)\n",
            "Requirement already satisfied: PyWavelets>=0.4.0 in /usr/local/lib/python3.11/dist-packages (from scikit-image~=0.14.0->-r requirements.txt (line 7)) (1.8.0)\n",
            "Requirement already satisfied: cloudpickle>=0.2.1 in /usr/local/lib/python3.11/dist-packages (from scikit-image~=0.14.0->-r requirements.txt (line 7)) (3.1.1)\n",
            "Requirement already satisfied: PyYAML in /usr/local/lib/python3.11/dist-packages (from pyaml->-r requirements.txt (line 8)) (6.0.2)\n",
            "Downloading numpy-1.26.4-cp311-cp311-manylinux_2_17_x86_64.manylinux2014_x86_64.whl (18.3 MB)\n",
            "\u001b[2K   \u001b[90m━━━━━━━━━━━━━━━━━━━━━━━━━━━━━━━━━━━━━━━━\u001b[0m \u001b[32m18.3/18.3 MB\u001b[0m \u001b[31m108.2 MB/s\u001b[0m eta \u001b[36m0:00:00\u001b[0m\n",
            "\u001b[?25hDownloading opencv_python-4.6.0.66-cp36-abi3-manylinux_2_17_x86_64.manylinux2014_x86_64.whl (60.9 MB)\n",
            "\u001b[2K   \u001b[90m━━━━━━━━━━━━━━━━━━━━━━━━━━━━━━━━━━━━━━━━\u001b[0m \u001b[32m60.9/60.9 MB\u001b[0m \u001b[31m13.6 MB/s\u001b[0m eta \u001b[36m0:00:00\u001b[0m\n",
            "\u001b[?25hDownloading pyaml-25.5.0-py3-none-any.whl (26 kB)\n",
            "Building wheels for collected packages: scipy, future, matplotlib, scikit-image\n",
            "  \u001b[1;31merror\u001b[0m: \u001b[1msubprocess-exited-with-error\u001b[0m\n",
            "  \n",
            "  \u001b[31m×\u001b[0m \u001b[32mpython setup.py bdist_wheel\u001b[0m did not run successfully.\n",
            "  \u001b[31m│\u001b[0m exit code: \u001b[1;36m1\u001b[0m\n",
            "  \u001b[31m╰─>\u001b[0m See above for output.\n",
            "  \n",
            "  \u001b[1;35mnote\u001b[0m: This error originates from a subprocess, and is likely not a problem with pip.\n",
            "  Building wheel for scipy (setup.py) ... \u001b[?25lerror\n",
            "\u001b[31m  ERROR: Failed building wheel for scipy\u001b[0m\u001b[31m\n",
            "\u001b[0m\u001b[?25h  Running setup.py clean for scipy\n",
            "  \u001b[1;31merror\u001b[0m: \u001b[1msubprocess-exited-with-error\u001b[0m\n",
            "  \n",
            "  \u001b[31m×\u001b[0m \u001b[32mpython setup.py clean\u001b[0m did not run successfully.\n",
            "  \u001b[31m│\u001b[0m exit code: \u001b[1;36m1\u001b[0m\n",
            "  \u001b[31m╰─>\u001b[0m See above for output.\n",
            "  \n",
            "  \u001b[1;35mnote\u001b[0m: This error originates from a subprocess, and is likely not a problem with pip.\n",
            "\u001b[31m  ERROR: Failed cleaning build dir for scipy\u001b[0m\u001b[31m\n",
            "\u001b[0m  Building wheel for future (setup.py) ... \u001b[?25l\u001b[?25hdone\n",
            "  Created wheel for future: filename=future-0.16.0-py3-none-any.whl size=487791 sha256=88daca551d58f9fe40fb3fe16bd22b18e41a0e1dc49b8ddbd06407a8801d64ed\n",
            "  Stored in directory: /root/.cache/pip/wheels/23/a7/6b/f9c0aa25c1d2541add28a5d16907c4f66985a129bff1868f41\n",
            "  \u001b[1;31merror\u001b[0m: \u001b[1msubprocess-exited-with-error\u001b[0m\n",
            "  \n",
            "  \u001b[31m×\u001b[0m \u001b[32mpython setup.py bdist_wheel\u001b[0m did not run successfully.\n",
            "  \u001b[31m│\u001b[0m exit code: \u001b[1;36m1\u001b[0m\n",
            "  \u001b[31m╰─>\u001b[0m See above for output.\n",
            "  \n",
            "  \u001b[1;35mnote\u001b[0m: This error originates from a subprocess, and is likely not a problem with pip.\n",
            "  Building wheel for matplotlib (setup.py) ... \u001b[?25lerror\n",
            "\u001b[31m  ERROR: Failed building wheel for matplotlib\u001b[0m\u001b[31m\n",
            "\u001b[0m\u001b[?25h  Running setup.py clean for matplotlib\n",
            "  \u001b[1;31merror\u001b[0m: \u001b[1msubprocess-exited-with-error\u001b[0m\n",
            "  \n",
            "  \u001b[31m×\u001b[0m \u001b[32mpython setup.py bdist_wheel\u001b[0m did not run successfully.\n",
            "  \u001b[31m│\u001b[0m exit code: \u001b[1;36m1\u001b[0m\n",
            "  \u001b[31m╰─>\u001b[0m See above for output.\n",
            "  \n",
            "  \u001b[1;35mnote\u001b[0m: This error originates from a subprocess, and is likely not a problem with pip.\n",
            "  Building wheel for scikit-image (setup.py) ... \u001b[?25lerror\n",
            "\u001b[31m  ERROR: Failed building wheel for scikit-image\u001b[0m\u001b[31m\n",
            "\u001b[0m\u001b[?25h  Running setup.py clean for scikit-image\n",
            "Successfully built future\n",
            "Failed to build scipy matplotlib scikit-image\n",
            "\u001b[31mERROR: ERROR: Failed to build installable wheels for some pyproject.toml based projects (scipy, matplotlib, scikit-image)\u001b[0m\u001b[31m\n",
            "\u001b[0m"
          ]
        }
      ]
    },
    {
      "cell_type": "code",
      "source": [
        "import os\n",
        "from google.colab import drive\n",
        "\n",
        "# Mount Google Drive (if you haven't already)\n",
        "drive.mount('/content/drive')\n",
        "\n",
        "# Create the target directory if it doesn't exist\n",
        "output_dir = './checkpoints'\n",
        "os.makedirs(output_dir, exist_ok=True)\n",
        "\n",
        "# The shared folder ID\n",
        "folder_id = '158ch9Psjop0mQEdeIp9DKjrYIGTDsZKN'\n",
        "\n",
        "# To download files from a shared Google Drive *folder*, you generally need to\n",
        "# use the `gdown` library. First, install it:\n",
        "!pip install gdown\n",
        "\n",
        "# Now, use gdown to download the contents of the folder.\n",
        "# The --folder flag tells gdown to download all contents of the folder.\n",
        "# The --output flag specifies the directory to download to.\n",
        "# Note: gdown might create a subfolder within the target directory with the\n",
        "# name of the Drive folder. You might need to adjust paths if that happens.\n",
        "!gdown --folder {folder_id} --output {output_dir} --remaining-ok\n",
        "\n",
        "print(f\"Files downloaded to: {output_dir}\")\n",
        "print(\"Listing contents of the checkpoints directory:\")\n",
        "!ls -l {output_dir}"
      ],
      "metadata": {
        "colab": {
          "base_uri": "https://localhost:8080/"
        },
        "id": "jbzuCsflfMMb",
        "outputId": "ae5d449e-690e-44f0-88df-3c23cdc39f13"
      },
      "execution_count": 5,
      "outputs": [
        {
          "output_type": "stream",
          "name": "stdout",
          "text": [
            "Mounted at /content/drive\n",
            "Requirement already satisfied: gdown in /usr/local/lib/python3.11/dist-packages (5.2.0)\n",
            "Requirement already satisfied: beautifulsoup4 in /usr/local/lib/python3.11/dist-packages (from gdown) (4.13.4)\n",
            "Requirement already satisfied: filelock in /usr/local/lib/python3.11/dist-packages (from gdown) (3.18.0)\n",
            "Requirement already satisfied: requests[socks] in /usr/local/lib/python3.11/dist-packages (from gdown) (2.32.3)\n",
            "Requirement already satisfied: tqdm in /usr/local/lib/python3.11/dist-packages (from gdown) (4.67.1)\n",
            "Requirement already satisfied: soupsieve>1.2 in /usr/local/lib/python3.11/dist-packages (from beautifulsoup4->gdown) (2.7)\n",
            "Requirement already satisfied: typing-extensions>=4.0.0 in /usr/local/lib/python3.11/dist-packages (from beautifulsoup4->gdown) (4.14.0)\n",
            "Requirement already satisfied: charset-normalizer<4,>=2 in /usr/local/lib/python3.11/dist-packages (from requests[socks]->gdown) (3.4.2)\n",
            "Requirement already satisfied: idna<4,>=2.5 in /usr/local/lib/python3.11/dist-packages (from requests[socks]->gdown) (3.10)\n",
            "Requirement already satisfied: urllib3<3,>=1.21.1 in /usr/local/lib/python3.11/dist-packages (from requests[socks]->gdown) (2.4.0)\n",
            "Requirement already satisfied: certifi>=2017.4.17 in /usr/local/lib/python3.11/dist-packages (from requests[socks]->gdown) (2025.6.15)\n",
            "Requirement already satisfied: PySocks!=1.5.7,>=1.5.6 in /usr/local/lib/python3.11/dist-packages (from requests[socks]->gdown) (1.7.1)\n",
            "Retrieving folder contents\n",
            "Processing file 1uT2IFVCAzRJcDtGtaJ8AqFqLL1rJr_6c EdgeModel_dis.pth\n",
            "Processing file 102VWNusdlnc4dR5g71H5mJZXQ6qwKXSi EdgeModel_gen.pth\n",
            "Processing file 1EvxETsfgIcXgPEhfdn5uslmrdGW2fmRM InpaintingModel_dis.pth\n",
            "Processing file 1PT3_rld3vkbSr4MeTW0Pd_fzMHq-tKcS InpaintingModel_gen.pth\n",
            "Retrieving folder contents completed\n",
            "Building directory structure\n",
            "Building directory structure completed\n",
            "Downloading...\n",
            "From: https://drive.google.com/uc?id=1uT2IFVCAzRJcDtGtaJ8AqFqLL1rJr_6c\n",
            "To: /content/checkpoints/EdgeModel_dis.pth\n",
            "100% 11.1M/11.1M [00:00<00:00, 52.8MB/s]\n",
            "Downloading...\n",
            "From: https://drive.google.com/uc?id=102VWNusdlnc4dR5g71H5mJZXQ6qwKXSi\n",
            "To: /content/checkpoints/EdgeModel_gen.pth\n",
            "100% 43.3M/43.3M [00:00<00:00, 99.5MB/s]\n",
            "Downloading...\n",
            "From: https://drive.google.com/uc?id=1EvxETsfgIcXgPEhfdn5uslmrdGW2fmRM\n",
            "To: /content/checkpoints/InpaintingModel_dis.pth\n",
            "100% 11.1M/11.1M [00:00<00:00, 45.3MB/s]\n",
            "Downloading...\n",
            "From: https://drive.google.com/uc?id=1PT3_rld3vkbSr4MeTW0Pd_fzMHq-tKcS\n",
            "To: /content/checkpoints/InpaintingModel_gen.pth\n",
            "100% 43.1M/43.1M [00:00<00:00, 70.0MB/s]\n",
            "Download completed\n",
            "Files downloaded to: ./checkpoints\n",
            "Listing contents of the checkpoints directory:\n",
            "total 106076\n",
            "-rw-r--r-- 1 root root 11119441 Jan 30  2023 EdgeModel_dis.pth\n",
            "-rw-r--r-- 1 root root 43263593 Jan 30  2023 EdgeModel_gen.pth\n",
            "-rw-r--r-- 1 root root 11123667 Jan 30  2023 InpaintingModel_dis.pth\n",
            "-rw-r--r-- 1 root root 43108915 Jan 30  2023 InpaintingModel_gen.pth\n"
          ]
        }
      ]
    },
    {
      "cell_type": "code",
      "source": [
        "# prompt: in /content/checkpoints make a folder places2 and move all files of /content/checkpoints in that folder\n",
        "\n",
        "import os\n",
        "\n",
        "checkpoints_dir = '/content/checkpoints'\n",
        "places2_dir = os.path.join(checkpoints_dir, 'places2')\n",
        "\n",
        "# Create the 'places2' directory inside 'checkpoints'\n",
        "os.makedirs(places2_dir, exist_ok=True)\n",
        "\n",
        "# List all files and directories in the checkpoints directory\n",
        "items_in_checkpoints = os.listdir(checkpoints_dir)\n",
        "\n",
        "# Move files (and potentially directories) from checkpoints to checkpoints/places2\n",
        "# Be careful: This will move *everything* from the original checkpoints directory\n",
        "# into the new places2 subdirectory, except for the places2 directory itself.\n",
        "for item in items_in_checkpoints:\n",
        "    source_item = os.path.join(checkpoints_dir, item)\n",
        "    destination_item = os.path.join(places2_dir, item)\n",
        "\n",
        "    # Make sure we don't try to move the 'places2' directory into itself\n",
        "    if source_item != places2_dir:\n",
        "        try:\n",
        "            # Use shutil.move for robust moving\n",
        "            import shutil\n",
        "            shutil.move(source_item, destination_item)\n",
        "            print(f\"Moved '{item}' to '{places2_dir}'\")\n",
        "        except Exception as e:\n",
        "            print(f\"Could not move '{item}': {e}\")\n",
        "\n",
        "print(f\"Contents of {checkpoints_dir} after moving:\")\n",
        "!ls -l {checkpoints_dir}\n",
        "\n",
        "print(f\"Contents of {places2_dir}:\")\n",
        "!ls -l {places2_dir}\n"
      ],
      "metadata": {
        "colab": {
          "base_uri": "https://localhost:8080/"
        },
        "id": "x1NsfvLsgMWh",
        "outputId": "9a9fdddb-c834-49c1-e793-38045cd4744d"
      },
      "execution_count": 8,
      "outputs": [
        {
          "output_type": "stream",
          "name": "stdout",
          "text": [
            "Moved 'InpaintingModel_gen.pth' to '/content/checkpoints/places2'\n",
            "Moved 'EdgeModel_gen.pth' to '/content/checkpoints/places2'\n",
            "Moved 'InpaintingModel_dis.pth' to '/content/checkpoints/places2'\n",
            "Moved 'EdgeModel_dis.pth' to '/content/checkpoints/places2'\n",
            "Contents of /content/checkpoints after moving:\n",
            "total 4\n",
            "drwxr-xr-x 2 root root 4096 Jun 28 10:05 places2\n",
            "Contents of /content/checkpoints/places2:\n",
            "total 106076\n",
            "-rw-r--r-- 1 root root 11119441 Jan 30  2023 EdgeModel_dis.pth\n",
            "-rw-r--r-- 1 root root 43263593 Jan 30  2023 EdgeModel_gen.pth\n",
            "-rw-r--r-- 1 root root 11123667 Jan 30  2023 InpaintingModel_dis.pth\n",
            "-rw-r--r-- 1 root root 43108915 Jan 30  2023 InpaintingModel_gen.pth\n"
          ]
        }
      ]
    },
    {
      "cell_type": "code",
      "source": [
        "print(\"Step 5: Preparing Input Images and Masks\")\n",
        "input_images_dir = '/content/Images'\n",
        "input_masks_dir = '/content/Mask'\n",
        "\n",
        "os.makedirs(input_images_dir, exist_ok=True)\n",
        "os.makedirs(input_masks_dir, exist_ok=True)\n",
        "\n",
        "# --- HOW TO ADD YOUR OWN IMAGES AND MASKS ---\n",
        "# Option A: Upload manually in Colab's file browser (left sidebar -> files icon)\n",
        "# Then move them to the correct directories using `!mv` or `shutil.move`\n",
        "\n",
        "# Option B: Copy from Google Drive (if mounted)\n",
        "# Example: If you have your images in /content/drive/MyDrive/my_inpainting_data/images\n",
        "# and masks in /content/drive/MyDrive/my_inpainting_data/masks\n",
        "# !cp \"/content/drive/MyDrive/my_inpainting_data/images/your_image1.png\" \"{input_images_dir}/\"\n",
        "# !cp \"/content/drive/MyDrive/my_inpainting_data/masks/your_mask1.png\" \"{input_masks_dir}/\"\n",
        "# !cp \"/content/drive/MyDrive/my_inpainting_data/images/your_image2.jpg\" \"{input_images_dir}/\"\n",
        "# !cp \"/content/drive/MyDrive/my_inpainting_data/masks/your_mask2.jpg\" \"{input_masks_dir}/\"\n",
        "\n",
        "# For demonstration, let's create dummy files.\n",
        "# REPLACE THESE WITH YOUR ACTUAL IMAGES AND MASKS!\n",
        "# For real usage, ensure image and mask filenames match (e.g., image.png and image.png)\n",
        "# and mask white pixels correspond to missing regions.\n",
        "# You'll need actual image data for the model to work.\n",
        "print(\"Creating placeholder image and mask directories. Please add your real files here.\")\n",
        "print(f\"Your input images should go into: {input_images_dir}\")\n",
        "print(f\"Your input masks should go into: {input_masks_dir}\")\n",
        "\n",
        "# Example: If you have an image 'test_image.jpg' and its mask 'test_mask.jpg'\n",
        "# in your Google Drive under 'my_data_for_edgeconnect/':\n",
        "# !cp \"/content/drive/MyDrive/my_data_for_edgeconnect/test_image.jpg\" \"{input_images_dir}/\"\n",
        "# !cp \"/content/drive/MyDrive/my_data_for_edgeconnect/test_mask.jpg\" \"{input_masks_dir}/\"\n",
        "\n",
        "# After copying, verify:\n",
        "print(\"\\nContents of input images directory:\")\n",
        "!ls -l {input_images_dir}\n",
        "print(\"\\nContents of input masks directory:\")\n",
        "!ls -l {input_masks_dir}\n",
        "print(\"-\" * 50)\n",
        "\n",
        "\n",
        "# 6. Run the testing script\n",
        "print(\"Step 6: Running the EdgeConnect test script for inpainting\")\n",
        "\n",
        "output_results_dir = './checkpoints/results'\n",
        "os.makedirs(output_results_dir, exist_ok=True) # Ensure output directory exists\n",
        "\n",
        "!python test.py \\\n",
        "  --checkpoints ./checkpoints/places2 \\\n",
        "  --input {input_images_dir} \\\n",
        "  --mask {input_masks_dir} \\\n",
        "  --output {output_results_dir}\n",
        "\n",
        "print(\"\\nEdgeConnect testing complete!\")\n",
        "print(f\"Inpainting results saved to: {output_results_dir}\")\n",
        "print(\"\\nContents of the results directory:\")\n",
        "!ls -l {output_results_dir}\n",
        "\n",
        "# Optional: Download results to your local machine or Google Drive\n",
        "# If you want to download all results:\n",
        "# from google.colab import files\n",
        "# !zip -r /content/results.zip {output_results_dir}\n",
        "# files.download('/content/results.zip')\n",
        "\n",
        "# If you want to copy results to your Google Drive:\n",
        "# Make sure your Drive is mounted (Step 1)\n",
        "# !cp -r {output_results_dir} \"/content/drive/MyDrive/EdgeConnect_Inpainting_Results\"\n",
        "# print(f\"Results also copied to Google Drive: /content/drive/MyDrive/EdgeConnect_Inpainting_Results\")"
      ],
      "metadata": {
        "colab": {
          "base_uri": "https://localhost:8080/"
        },
        "id": "Dtjh9UYAiAro",
        "outputId": "75df1058-137b-4427-d337-5b4485704006"
      },
      "execution_count": 17,
      "outputs": [
        {
          "output_type": "stream",
          "name": "stdout",
          "text": [
            "Step 5: Preparing Input Images and Masks\n",
            "Creating placeholder image and mask directories. Please add your real files here.\n",
            "Your input images should go into: /content/Images\n",
            "Your input masks should go into: /content/Mask\n",
            "\n",
            "Contents of input images directory:\n",
            "total 2360\n",
            "-rw-r--r-- 1 root root 2414956 Jun 28 10:04 4.0.png\n",
            "\n",
            "Contents of input masks directory:\n",
            "total 8\n",
            "-rw-r--r-- 1 root root 8026 Jun 28 10:19 4.0.png\n",
            "--------------------------------------------------\n",
            "Step 6: Running the EdgeConnect test script for inpainting\n",
            "/usr/local/lib/python3.11/dist-packages/torchvision/models/_utils.py:208: UserWarning: The parameter 'pretrained' is deprecated since 0.13 and may be removed in the future, please use 'weights' instead.\n",
            "  warnings.warn(\n",
            "/usr/local/lib/python3.11/dist-packages/torchvision/models/_utils.py:223: UserWarning: Arguments other than a weight enum or `None` for 'weights' are deprecated since 0.13 and may be removed in the future. The current behavior is equivalent to passing `weights=VGG19_Weights.IMAGENET1K_V1`. You can also use `weights=VGG19_Weights.DEFAULT` to get the most up-to-date weights.\n",
            "  warnings.warn(msg)\n",
            "Loading EdgeModel generator...\n",
            "Loading InpaintingModel generator...\n",
            "\n",
            "start testing...\n",
            "\n",
            "1 4.0.png\n",
            "\n",
            "End test....\n",
            "\n",
            "EdgeConnect testing complete!\n",
            "Inpainting results saved to: ./checkpoints/results\n",
            "\n",
            "Contents of the results directory:\n",
            "total 2352\n",
            "-rw-r--r-- 1 root root 2406831 Jun 28 10:29 4.0.png\n"
          ]
        }
      ]
    }
  ]
}